{
 "cells": [
  {
   "cell_type": "markdown",
   "id": "cdd8ac4f",
   "metadata": {},
   "source": [
    "1.-Which of the following operators is used to calculate the remainder of divosion python"
   ]
  },
  {
   "cell_type": "markdown",
   "id": "7a3ebe3c",
   "metadata": {},
   "source": [
    "Ans.- %"
   ]
  },
  {
   "cell_type": "markdown",
   "id": "4475b92e",
   "metadata": {},
   "source": [
    "Q.no.2-In Python 2//3 is equal to ?"
   ]
  },
  {
   "cell_type": "code",
   "execution_count": 1,
   "id": "de89a8e9",
   "metadata": {},
   "outputs": [
    {
     "data": {
      "text/plain": [
       "0"
      ]
     },
     "execution_count": 1,
     "metadata": {},
     "output_type": "execute_result"
    }
   ],
   "source": [
    "2//3"
   ]
  },
  {
   "cell_type": "markdown",
   "id": "bafe18cf",
   "metadata": {},
   "source": [
    "Q.No.3- In python 6<<2 is equal to?"
   ]
  },
  {
   "cell_type": "code",
   "execution_count": 2,
   "id": "92d95511",
   "metadata": {},
   "outputs": [
    {
     "data": {
      "text/plain": [
       "24"
      ]
     },
     "execution_count": 2,
     "metadata": {},
     "output_type": "execute_result"
    }
   ],
   "source": [
    "6<<2"
   ]
  },
  {
   "cell_type": "markdown",
   "id": "c1c84180",
   "metadata": {},
   "source": [
    "Q.no.4- In Python,6&2 will give which following output?"
   ]
  },
  {
   "cell_type": "code",
   "execution_count": 3,
   "id": "1e905be5",
   "metadata": {},
   "outputs": [
    {
     "data": {
      "text/plain": [
       "2"
      ]
     },
     "execution_count": 3,
     "metadata": {},
     "output_type": "execute_result"
    }
   ],
   "source": [
    "6&2"
   ]
  },
  {
   "cell_type": "markdown",
   "id": "4e1d4b3e",
   "metadata": {},
   "source": [
    "Q.no.5- In Python,6|2 will give which following output?"
   ]
  },
  {
   "cell_type": "code",
   "execution_count": 4,
   "id": "e856f0c1",
   "metadata": {},
   "outputs": [
    {
     "data": {
      "text/plain": [
       "6"
      ]
     },
     "execution_count": 4,
     "metadata": {},
     "output_type": "execute_result"
    }
   ],
   "source": [
    "6|2"
   ]
  },
  {
   "cell_type": "markdown",
   "id": "78cab6e2",
   "metadata": {},
   "source": [
    "Q.No.5- what does the finally keyword denotes in python?"
   ]
  },
  {
   "cell_type": "markdown",
   "id": "b37ab1c4",
   "metadata": {},
   "source": [
    "Ans.- the finally block will be executed no matter if the try block raise an error or not"
   ]
  },
  {
   "cell_type": "markdown",
   "id": "6a31d584",
   "metadata": {},
   "source": [
    "Q.no.7-  what does raise keyword is used for in python?"
   ]
  },
  {
   "cell_type": "markdown",
   "id": "74d3a90d",
   "metadata": {},
   "source": [
    "Ans.- It is used to raise an exception"
   ]
  },
  {
   "cell_type": "markdown",
   "id": "eb756ef2",
   "metadata": {},
   "source": [
    "Q.no.8- which of the folowing is a common use a case of yield keyword in python?"
   ]
  },
  {
   "cell_type": "markdown",
   "id": "cdde3e5e",
   "metadata": {},
   "source": [
    "Ans.- In defining iterator"
   ]
  },
  {
   "cell_type": "markdown",
   "id": "0ac6ee6f",
   "metadata": {},
   "source": [
    "Q.no.9- which of the following are the valid variable names?"
   ]
  },
  {
   "cell_type": "markdown",
   "id": "8866c23d",
   "metadata": {},
   "source": [
    "Ans.-  _abc, abc2"
   ]
  },
  {
   "cell_type": "markdown",
   "id": "4642221d",
   "metadata": {},
   "source": [
    "Q.no.10-which are the following keyword in python?"
   ]
  },
  {
   "cell_type": "markdown",
   "id": "a425123b",
   "metadata": {},
   "source": [
    "Ans.- Yield, Raise"
   ]
  },
  {
   "cell_type": "markdown",
   "id": "0b0cd56d",
   "metadata": {},
   "source": [
    "Q.No.11-Write a python program to find the factorial number?"
   ]
  },
  {
   "cell_type": "code",
   "execution_count": 5,
   "id": "c5136618",
   "metadata": {},
   "outputs": [
    {
     "name": "stdout",
     "output_type": "stream",
     "text": [
      "enter any number for table generation10\n",
      "j * 1 = 10\n",
      "j * 2 = 20\n",
      "j * 3 = 30\n",
      "j * 4 = 40\n",
      "j * 5 = 50\n",
      "j * 6 = 60\n",
      "j * 7 = 70\n",
      "j * 8 = 80\n",
      "j * 9 = 90\n",
      "j * 10 = 100\n"
     ]
    }
   ],
   "source": [
    "i=1\n",
    "j=int(input(\"enter any number for table generation\"))\n",
    "while(i<=10):\n",
    "    print(\"j *\",i,\"=\",j*i)\n",
    "    i=i+1"
   ]
  },
  {
   "cell_type": "markdown",
   "id": "153df4b7",
   "metadata": {},
   "source": [
    "Q.No.12- write a python program to find whether a number is prime or composite.?"
   ]
  },
  {
   "cell_type": "code",
   "execution_count": 6,
   "id": "0c5b31d0",
   "metadata": {},
   "outputs": [
    {
     "name": "stdout",
     "output_type": "stream",
     "text": [
      "enter any number10\n",
      "10 is not a prime number\n"
     ]
    }
   ],
   "source": [
    "num = int(input(\"enter any number\"))\n",
    "if num > 1:\n",
    "    for i in range(2, num):\n",
    "        if (num % i) == 0:\n",
    "            print(num,\"is not a prime number\")\n",
    "            break\n",
    "        else:\n",
    "            print(num, \"is a Prime number\")"
   ]
  },
  {
   "cell_type": "markdown",
   "id": "1f1a0807",
   "metadata": {},
   "source": [
    "13. Write a python program to check whether a given string is palindrome or not"
   ]
  },
  {
   "cell_type": "code",
   "execution_count": 7,
   "id": "d24193ae",
   "metadata": {},
   "outputs": [
    {
     "name": "stdout",
     "output_type": "stream",
     "text": [
      "The string is not a palindrome\n"
     ]
    }
   ],
   "source": [
    "my_str = 'Ajaypoonam'\n",
    "my_str = my_str.casefold()\n",
    "rev_str = reversed(my_str)\n",
    "if list(my_str) == list(rev_str):\n",
    "    print(\"The string is a palindrome.\")\n",
    "else:\n",
    "    print(\"The string is not a palindrome\")\n",
    "\n"
   ]
  },
  {
   "cell_type": "markdown",
   "id": "b9a9dcd4",
   "metadata": {},
   "source": [
    "14. Write a Python program to get the third side of right-angled triangle from two given sides"
   ]
  },
  {
   "cell_type": "code",
   "execution_count": 18,
   "id": "573bfce7",
   "metadata": {},
   "outputs": [
    {
     "name": "stdout",
     "output_type": "stream",
     "text": [
      "enter length of 1st side:24\n",
      "enter length of 2nd side:7\n",
      "enter the angle:60\n",
      "the longest side is hypotenuse is 25.0\n"
     ]
    }
   ],
   "source": [
    "side1=float(input('enter length of 1st side:'))\n",
    "side2=float(input('enter length of 2nd side:'))\n",
    "angle=float(input('enter the angle:'))\n",
    "side3=(side1*side1+side2*side2)**0.5\n",
    "print(\"the longest side is hypotenuse is\",side3)"
   ]
  },
  {
   "cell_type": "markdown",
   "id": "78d3f381",
   "metadata": {},
   "source": [
    "15. Write a python program to print the frequency of each of the characters present in a given string"
   ]
  },
  {
   "cell_type": "code",
   "execution_count": 16,
   "id": "67e4eb61",
   "metadata": {},
   "outputs": [
    {
     "name": "stdout",
     "output_type": "stream",
     "text": [
      "enter the stringAjaypoonam\n",
      "{'A': 1, 'j': 1, 'a': 2, 'y': 1, 'p': 1, 'o': 2, 'n': 1, 'm': 1}\n"
     ]
    }
   ],
   "source": [
    "str1 = input(\"enter the string\")\n",
    "d1 = dict()\n",
    "for c in str1:\n",
    "    if c in d1:\n",
    "        d1[c] = d1[c] + 1\n",
    "    else:\n",
    "        d1[c] = 1\n",
    "print (d1)"
   ]
  },
  {
   "cell_type": "code",
   "execution_count": null,
   "id": "8eef4e6e",
   "metadata": {},
   "outputs": [],
   "source": []
  }
 ],
 "metadata": {
  "kernelspec": {
   "display_name": "Python 3 (ipykernel)",
   "language": "python",
   "name": "python3"
  },
  "language_info": {
   "codemirror_mode": {
    "name": "ipython",
    "version": 3
   },
   "file_extension": ".py",
   "mimetype": "text/x-python",
   "name": "python",
   "nbconvert_exporter": "python",
   "pygments_lexer": "ipython3",
   "version": "3.9.13"
  }
 },
 "nbformat": 4,
 "nbformat_minor": 5
}
